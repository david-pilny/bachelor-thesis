{
 "cells": [
  {
   "cell_type": "code",
   "execution_count": 3,
   "id": "43555ccf",
   "metadata": {},
   "outputs": [],
   "source": [
    "import TestingDataset"
   ]
  },
  {
   "cell_type": "code",
   "execution_count": 4,
   "id": "dcb02e46",
   "metadata": {},
   "outputs": [],
   "source": [
    "input_dir = '../Dataset/images/'\n",
    "mask_dir = '../Dataset/labels/'\n",
    "\n",
    "output_dir_images = '../Testing_Dataset/rotation_10_deg/images/'\n",
    "output_dir_masks = '../Testing_Dataset/rotation_10_deg/labels/'\n",
    "\n",
    "img_data_gen_args = dict(\n",
    "      rotation_range=10,\n",
    "      fill_mode='reflect')\n",
    "\n",
    "mask_data_gen_args = dict(\n",
    "      rotation_range=10,\n",
    "      fill_mode='reflect')"
   ]
  },
  {
   "cell_type": "code",
   "execution_count": 5,
   "id": "dfecff11",
   "metadata": {},
   "outputs": [
    {
     "name": "stdout",
     "output_type": "stream",
     "text": [
      "Creating new directory ...\n",
      "Creating new directory ...\n",
      "Creating new directory ...\n",
      "(869, 544, 544)\n",
      "(869, 544, 544)\n",
      "Dataset generated !\n"
     ]
    }
   ],
   "source": [
    "TestingDataset.create_dataset(input_dir, \n",
    "                              mask_dir, \n",
    "                              output_dir_images, \n",
    "                              output_dir_masks,\n",
    "                              img_data_gen_args,\n",
    "                              mask_data_gen_args)"
   ]
  },
  {
   "cell_type": "code",
   "execution_count": null,
   "id": "2fffb0ca",
   "metadata": {},
   "outputs": [],
   "source": []
  }
 ],
 "metadata": {
  "kernelspec": {
   "display_name": "Python 3.9 (tensorflow)",
   "language": "python",
   "name": "tensorflow"
  },
  "language_info": {
   "codemirror_mode": {
    "name": "ipython",
    "version": 3
   },
   "file_extension": ".py",
   "mimetype": "text/x-python",
   "name": "python",
   "nbconvert_exporter": "python",
   "pygments_lexer": "ipython3",
   "version": "3.9.11"
  }
 },
 "nbformat": 4,
 "nbformat_minor": 5
}
