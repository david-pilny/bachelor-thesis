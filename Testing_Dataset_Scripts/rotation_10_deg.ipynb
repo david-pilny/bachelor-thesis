{
 "cells": [
  {
   "cell_type": "code",
   "execution_count": 1,
   "id": "10b67c83",
   "metadata": {},
   "outputs": [],
   "source": [
    "from tensorflow.keras.utils import normalize\n",
    "from tensorflow.keras.models import Model\n",
    "from tensorflow.keras.layers import Input, Conv2D, MaxPooling2D, UpSampling2D, concatenate, Conv2DTranspose, BatchNormalization, Dropout, Lambda\n",
    "from tensorflow.keras.callbacks import ModelCheckpoint, EarlyStopping, TensorBoard\n",
    "from tensorflow.keras.utils import to_categorical\n",
    "from tensorflow.keras.metrics import MeanIoU\n",
    "from tensorflow.keras.preprocessing.image import ImageDataGenerator\n",
    "import os\n",
    "import random\n",
    "import cv2\n",
    "from PIL import Image\n",
    "import numpy as np\n",
    "from matplotlib import pyplot as plt\n",
    "from sklearn.preprocessing import LabelEncoder\n",
    "from sklearn.model_selection import train_test_split\n",
    "from sklearn.utils import class_weight"
   ]
  },
  {
   "cell_type": "code",
   "execution_count": 2,
   "id": "e3d077ca",
   "metadata": {},
   "outputs": [],
   "source": [
    "def create_output_dir(arr):\n",
    "    root_path = os.path.join(arr[0], arr[1])\n",
    "    arr = arr[1:]\n",
    "    arr[0] = root_path\n",
    "    if os.path.exists(root_path) == False:\n",
    "        print('Creating new directory ...')\n",
    "        os.mkdir(root_path)\n",
    "    if len(arr) > 1:\n",
    "        create_output_dir(arr)"
   ]
  },
  {
   "cell_type": "code",
   "execution_count": 3,
   "id": "5fa34516",
   "metadata": {},
   "outputs": [],
   "source": [
    "SIZE_X = 544\n",
    "SIZE_Y = 544\n",
    "n_classes = 4\n",
    "\n",
    "input_dir = \"../Dataset/images/\"\n",
    "mask_dir = \"../Dataset/labels/\"\n",
    "\n",
    "output_dir_images = '../Testing_Dataset/rotation_10_deg/images/'\n",
    "output_dir_masks = '../Testing_Dataset/rotation_10_deg/labels/'"
   ]
  },
  {
   "cell_type": "code",
   "execution_count": 4,
   "id": "3bbbfccc",
   "metadata": {},
   "outputs": [
    {
     "name": "stdout",
     "output_type": "stream",
     "text": [
      "Creating new directory ...\n",
      "Creating new directory ...\n",
      "Creating new directory ...\n",
      "Creating new directory ...\n"
     ]
    }
   ],
   "source": [
    "create_output_dir((os.path.normpath(output_dir_images)).split(os.sep))\n",
    "create_output_dir((os.path.normpath(output_dir_masks)).split(os.sep))"
   ]
  },
  {
   "cell_type": "code",
   "execution_count": 5,
   "id": "1b029a84",
   "metadata": {},
   "outputs": [
    {
     "name": "stdout",
     "output_type": "stream",
     "text": [
      "(869, 544, 544)\n",
      "(869, 544, 544)\n"
     ]
    }
   ],
   "source": [
    "train_images = []\n",
    "for directory_path in sorted(os.listdir(input_dir)):\n",
    "    input_path = input_dir + directory_path\n",
    "    img = cv2.imread(input_path, 0)\n",
    "    train_images.append(img)       \n",
    "train_images = np.array(train_images)\n",
    "print(train_images.shape)\n",
    "\n",
    "train_masks = []\n",
    "for directory_path in sorted(os.listdir(mask_dir)):\n",
    "    input_path = mask_dir + directory_path\n",
    "    mask = cv2.imread(input_path, 0)\n",
    "    train_masks.append(mask)\n",
    "train_masks = np.array(train_masks)\n",
    "print(train_masks.shape)"
   ]
  },
  {
   "cell_type": "code",
   "execution_count": 6,
   "id": "2184ec51",
   "metadata": {},
   "outputs": [],
   "source": [
    "train_images = np.expand_dims(train_images, axis=3)\n",
    "train_images = normalize(train_images, axis=1)\n",
    "train_masks_input = np.expand_dims(train_masks, axis=3)"
   ]
  },
  {
   "cell_type": "code",
   "execution_count": 7,
   "id": "b4dfb881",
   "metadata": {},
   "outputs": [],
   "source": [
    "batch_size = 16\n",
    "seed = 100\n",
    "\n",
    "img_data_gen_args = dict(\n",
    "      rotation_range=10,\n",
    "      fill_mode='reflect')\n",
    "\n",
    "mask_data_gen_args = dict(\n",
    "      rotation_range=10,\n",
    "      fill_mode='reflect',\n",
    "    )\n",
    "image_data_generator = ImageDataGenerator(**img_data_gen_args)\n",
    "mask_data_generator = ImageDataGenerator(**mask_data_gen_args)"
   ]
  },
  {
   "cell_type": "code",
   "execution_count": 8,
   "id": "a1137676",
   "metadata": {},
   "outputs": [],
   "source": [
    "image_data_generator.fit(train_images, augment=True, seed=seed)\n",
    "image_generator = image_data_generator.flow(train_images, seed=seed)\n",
    "\n",
    "mask_data_generator.fit(train_masks_input, augment=True, seed=seed)\n",
    "mask_generator = mask_data_generator.flow(train_masks_input, seed=seed)"
   ]
  },
  {
   "cell_type": "code",
   "execution_count": 9,
   "id": "8426c3b4",
   "metadata": {},
   "outputs": [],
   "source": [
    "img_generator = zip(image_generator, mask_generator)"
   ]
  },
  {
   "cell_type": "code",
   "execution_count": 10,
   "id": "e03b954a",
   "metadata": {},
   "outputs": [],
   "source": [
    "generated_images = []\n",
    "generated_labels = []\n",
    "index = 0\n",
    "\n",
    "for (img, mask) in img_generator:\n",
    "        for i in img:\n",
    "            generated_images.append(i)\n",
    "        for m in mask:\n",
    "            generated_labels.append(m)\n",
    "        if index >= 32:\n",
    "            break\n",
    "        index += 1\n",
    "        \n",
    "generated_images = np.array(generated_images)\n",
    "generated_labels = np.array(generated_labels)"
   ]
  },
  {
   "cell_type": "code",
   "execution_count": 11,
   "id": "312b6072",
   "metadata": {},
   "outputs": [],
   "source": [
    "generated_images = generated_images.reshape(generated_images.shape[0],\n",
    "                        generated_images.shape[1],\n",
    "                        generated_images.shape[2])\n",
    "\n",
    "generated_labels = generated_labels.reshape(generated_labels.shape[0],\n",
    "                        generated_labels.shape[1],\n",
    "                        generated_labels.shape[2])"
   ]
  },
  {
   "cell_type": "code",
   "execution_count": 12,
   "id": "f88d9ab0",
   "metadata": {},
   "outputs": [],
   "source": [
    "index = 0\n",
    "for img in generated_images:\n",
    "    cv2.imwrite(os.path.join(output_dir_images, '{0}.png'.format(index)), img)\n",
    "    index += 1\n",
    "\n",
    "index = 0\n",
    "for mask in generated_labels:\n",
    "    cv2.imwrite(os.path.join(output_dir_masks, '{0}.png'.format(index)), img)\n",
    "    index += 1"
   ]
  },
  {
   "cell_type": "code",
   "execution_count": null,
   "id": "6513f927",
   "metadata": {},
   "outputs": [],
   "source": []
  }
 ],
 "metadata": {
  "kernelspec": {
   "display_name": "Python 3.9 (tensorflow)",
   "language": "python",
   "name": "tensorflow"
  },
  "language_info": {
   "codemirror_mode": {
    "name": "ipython",
    "version": 3
   },
   "file_extension": ".py",
   "mimetype": "text/x-python",
   "name": "python",
   "nbconvert_exporter": "python",
   "pygments_lexer": "ipython3",
   "version": "3.9.11"
  }
 },
 "nbformat": 4,
 "nbformat_minor": 5
}
