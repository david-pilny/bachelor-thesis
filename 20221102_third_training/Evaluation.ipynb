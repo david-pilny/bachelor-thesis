{
 "cells": [
  {
   "cell_type": "code",
   "execution_count": 6,
   "id": "9881ea27",
   "metadata": {},
   "outputs": [],
   "source": [
    "from tensorflow.keras.utils import normalize\n",
    "from tensorflow.keras.models import Model\n",
    "from tensorflow.keras.layers import Input, Conv2D, MaxPooling2D, UpSampling2D, concatenate, Conv2DTranspose, BatchNormalization, Dropout, Lambda\n",
    "from tensorflow.keras.callbacks import ModelCheckpoint, EarlyStopping, TensorBoard\n",
    "from tensorflow.keras.utils import to_categorical\n",
    "from tensorflow.keras.metrics import MeanIoU\n",
    "from tensorflow.keras.preprocessing.image import ImageDataGenerator\n",
    "import matplotlib.pyplot as plt\n",
    "import cv2\n",
    "import matplotlib.pyplot as plt\n",
    "from glob import glob\n",
    "import os\n",
    "import random\n",
    "import numpy as np\n",
    "from sklearn.preprocessing import LabelEncoder\n",
    "from sklearn.model_selection import train_test_split\n",
    "from sklearn.utils import class_weight\n",
    "\n",
    "input_dir = \"../../../../Desktop/Ateroskleroza_Data_Original_26_9_19/images/\"\n",
    "mask_dir = \"../../../../Desktop/Ateroskleroza_Data_Original_26_9_19/labels/\"\n",
    "model = load_model('./Third_training/20230325_atherosceloris_segmentation.h5')"
   ]
  },
  {
   "cell_type": "code",
   "execution_count": 8,
   "id": "0044de2a",
   "metadata": {},
   "outputs": [
    {
     "name": "stdout",
     "output_type": "stream",
     "text": [
      "(869, 544, 544)\n",
      "(869, 544, 544)\n"
     ]
    }
   ],
   "source": [
    "n_classes = 4\n",
    "\n",
    "train_images = []\n",
    "for directory_path in sorted(os.listdir(input_dir)):\n",
    "    input_path = input_dir + directory_path\n",
    "    img = cv2.imread(input_path, 0)\n",
    "    train_images.append(img)       \n",
    "train_images = np.array(train_images)\n",
    "print(train_images.shape)\n",
    "\n",
    "train_masks = []\n",
    "for directory_path in sorted(os.listdir(mask_dir)):\n",
    "    input_path = mask_dir + directory_path\n",
    "    mask = cv2.imread(input_path, 0)\n",
    "    train_masks.append(mask)\n",
    "train_masks = np.array(train_masks)\n",
    "print(train_masks.shape)\n",
    "\n",
    "labelencoder = LabelEncoder()\n",
    "n, h, w = train_masks.shape\n",
    "train_masks_reshaped = train_masks.reshape(-1, 1)\n",
    "train_masks_reshaped_encoded = labelencoder.fit_transform(train_masks_reshaped)\n",
    "train_masks_reshaped_encoded_original_shape = train_masks_reshaped_encoded.reshape(n, h, w)\n",
    "\n",
    "np.unique(train_masks_reshaped_encoded_original_shape)\n",
    "\n",
    "train_images = np.expand_dims(train_images, axis=3)\n",
    "train_images = normalize(train_images, axis=1)\n",
    "\n",
    "train_masks_input = np.expand_dims(train_masks, axis=3)\n",
    "\n",
    "X_train, X_test, y_train, y_test = train_test_split(train_images, train_masks_input, test_size = 0.10, random_state=42)\n",
    "\n",
    "train_masks_cat = to_categorical(y_train, num_classes=n_classes)\n",
    "y_train_cat = train_masks_cat.reshape((y_train.shape[0], y_train.shape[1], y_train.shape[2], n_classes))\n",
    "\n",
    "test_masks_cat = to_categorical(y_test, num_classes=n_classes)\n",
    "y_test_cat = test_masks_cat.reshape((y_test.shape[0], y_test.shape[1], y_test.shape[2], n_classes))"
   ]
  },
  {
   "cell_type": "code",
   "execution_count": 9,
   "id": "27cd026c",
   "metadata": {},
   "outputs": [],
   "source": [
    "batch_size = 16\n",
    "seed = 100\n",
    "\n",
    "img_data_gen_args = dict(\n",
    "      rotation_range=40,\n",
    "      width_shift_range=0.2,\n",
    "      height_shift_range=0.2,\n",
    "      shear_range=0.2,\n",
    "      zoom_range=0.2,\n",
    "      horizontal_flip=True,\n",
    "      vertical_flip=True,\n",
    "      fill_mode='reflect')\n",
    "\n",
    "mask_data_gen_args = dict(\n",
    "      rotation_range=40,\n",
    "      width_shift_range=0.2,\n",
    "      height_shift_range=0.2,\n",
    "      shear_range=0.2,\n",
    "      zoom_range=0.2,\n",
    "      horizontal_flip=True,\n",
    "      vertical_flip=True,\n",
    "      fill_mode='reflect',\n",
    "    )\n",
    "\n",
    "image_data_generator = ImageDataGenerator(**img_data_gen_args)\n",
    "mask_data_generator = ImageDataGenerator(**mask_data_gen_args)\n",
    "\n",
    "image_data_generator.fit(X_train, augment=True, seed=seed)\n",
    "image_generator = image_data_generator.flow(X_train, seed=seed)\n",
    "valid_img_generator = image_data_generator.flow(X_test, seed=seed)\n",
    "\n",
    "\n",
    "mask_data_generator.fit(y_train_cat, augment=True, seed=seed)\n",
    "mask_generator = mask_data_generator.flow(y_train_cat, seed=seed)\n",
    "valid_mask_generator = mask_data_generator.flow(y_test_cat, seed=seed)\n",
    "\n",
    "train_generator = zip(image_generator, mask_generator)\n",
    "val_generator = zip(valid_img_generator, valid_mask_generator)"
   ]
  },
  {
   "cell_type": "code",
   "execution_count": 10,
   "id": "d2cbd811",
   "metadata": {},
   "outputs": [
    {
     "name": "stderr",
     "output_type": "stream",
     "text": [
      "/Users/davidpilny/miniforge3/envs/tensorflow/lib/python3.9/site-packages/tensorflow/python/keras/engine/training.py:1973: UserWarning: `Model.evaluate_generator` is deprecated and will be removed in a future version. Please use `Model.evaluate`, which supports generators.\n",
      "  warnings.warn('`Model.evaluate_generator` is deprecated and '\n",
      "2023-03-28 14:53:23.057133: I tensorflow/compiler/mlir/mlir_graph_optimization_pass.cc:176] None of the MLIR Optimization Passes are enabled (registered 2)\n",
      "2023-03-28 14:53:23.058358: W tensorflow/core/platform/profile_utils/cpu_utils.cc:128] Failed to get CPU frequency: 0 Hz\n"
     ]
    }
   ],
   "source": [
    "train_loss, train_acc = model.evaluate_generator(train_generator, steps=16)\n",
    "test_loss, test_acc = model.evaluate_generator(val_generator, steps=16)"
   ]
  },
  {
   "cell_type": "code",
   "execution_count": 16,
   "id": "9f9c702e",
   "metadata": {},
   "outputs": [
    {
     "name": "stdout",
     "output_type": "stream",
     "text": [
      "Training accruracy:\t0.9742642045021057\n",
      "Training loss:\t\t0.06470072269439697\n",
      "Testing accuracy:\t0.9711969494819641\n",
      "Testing loss:\t\t0.0739593505859375\n"
     ]
    }
   ],
   "source": [
    "print('Training accruracy:\\t{0}\\nTraining loss:\\t\\t{1}\\nTesting accuracy:\\t{2}\\nTesting loss:\\t\\t{3}'.format(train_acc, train_loss, test_acc, test_loss))"
   ]
  },
  {
   "cell_type": "code",
   "execution_count": 17,
   "id": "aa711b12",
   "metadata": {},
   "outputs": [
    {
     "name": "stderr",
     "output_type": "stream",
     "text": [
      "/Users/davidpilny/miniforge3/envs/tensorflow/lib/python3.9/site-packages/tensorflow/python/keras/engine/training.py:1973: UserWarning: `Model.evaluate_generator` is deprecated and will be removed in a future version. Please use `Model.evaluate`, which supports generators.\n",
      "  warnings.warn('`Model.evaluate_generator` is deprecated and '\n"
     ]
    },
    {
     "name": "stdout",
     "output_type": "stream",
     "text": [
      "Training accruracy:\t0.8838330507278442\n",
      "Training loss:\t\t0.39730024337768555\n",
      "Testing accuracy:\t0.8815974593162537\n",
      "Testing loss:\t\t0.40781015157699585\n"
     ]
    }
   ],
   "source": [
    "model1 = load_model('../20221030_first_training/20221030_atherosclerosis_model.h5')\n",
    "train_loss, train_acc = model1.evaluate_generator(train_generator, steps=16)\n",
    "test_loss, test_acc = model1.evaluate_generator(val_generator, steps=16)\n",
    "print('Training accruracy:\\t{0}\\nTraining loss:\\t\\t{1}\\nTesting accuracy:\\t{2}\\nTesting loss:\\t\\t{3}'.format(train_acc, train_loss, test_acc, test_loss))"
   ]
  },
  {
   "cell_type": "code",
   "execution_count": 22,
   "id": "2594c8e1",
   "metadata": {},
   "outputs": [
    {
     "name": "stdout",
     "output_type": "stream",
     "text": [
      "Training accruracy:\t0.9742568731307983\n",
      "Training loss:\t\t0.06514639407396317\n",
      "Testing accuracy:\t0.9726105332374573\n",
      "Testing loss:\t\t0.07123444974422455\n"
     ]
    }
   ],
   "source": [
    "model2 = load_model('../20230326_fourth_training/Training_Output/20230326_atherosceloris_segmentation.h5')\n",
    "train_loss, train_acc = model2.evaluate_generator(train_generator, steps=16)\n",
    "test_loss, test_acc = model2.evaluate_generator(val_generator, steps=16)\n",
    "print('Training accruracy:\\t{0}\\nTraining loss:\\t\\t{1}\\nTesting accuracy:\\t{2}\\nTesting loss:\\t\\t{3}'.format(train_acc, train_loss, test_acc, test_loss))"
   ]
  },
  {
   "cell_type": "code",
   "execution_count": null,
   "id": "95546e59",
   "metadata": {},
   "outputs": [],
   "source": []
  }
 ],
 "metadata": {
  "kernelspec": {
   "display_name": "Python 3.9 (tensorflow)",
   "language": "python",
   "name": "tensorflow"
  },
  "language_info": {
   "codemirror_mode": {
    "name": "ipython",
    "version": 3
   },
   "file_extension": ".py",
   "mimetype": "text/x-python",
   "name": "python",
   "nbconvert_exporter": "python",
   "pygments_lexer": "ipython3",
   "version": "3.9.11"
  }
 },
 "nbformat": 4,
 "nbformat_minor": 5
}
