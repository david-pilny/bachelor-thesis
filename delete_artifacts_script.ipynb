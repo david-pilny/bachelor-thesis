{
 "cells": [
  {
   "cell_type": "code",
   "execution_count": 2,
   "id": "55ff1a6a",
   "metadata": {},
   "outputs": [],
   "source": [
    "from tensorflow.keras.models import load_model\n",
    "from tensorflow.keras.utils import normalize\n",
    "import matplotlib.pyplot as plt\n",
    "import cv2\n",
    "import matplotlib.pyplot as plt\n",
    "from glob import glob\n",
    "import os\n",
    "import random\n",
    "import numpy as np"
   ]
  },
  {
   "cell_type": "code",
   "execution_count": 12,
   "id": "a8f00062",
   "metadata": {},
   "outputs": [],
   "source": [
    "input_directory = './Dataset/images/'\n",
    "output_directory = './test-removing-artifacts-3/'\n",
    "model_20221030 = load_model('./Trained_models/20221030_atherosclerosis_model.h5')\n",
    "model_20230326 = load_model('./Trained_models/20230326_atherosceloris_model.h5')\n",
    "model_20230329 = load_model('./Trained_models/20230329_atherosceloris_model.h5')\n",
    "model_20230331 = load_model('./Trained_models/20230331_atherosceloris_model.h5')"
   ]
  },
  {
   "cell_type": "code",
   "execution_count": 4,
   "id": "bdee494d",
   "metadata": {},
   "outputs": [],
   "source": [
    "def segment_image(model, img_path):\n",
    "    img = cv2.imread(img_path, 0)\n",
    "    img = np.array(img)\n",
    "\n",
    "    img = np.expand_dims(img, axis=2)\n",
    "    img = normalize(img, axis=1)\n",
    "\n",
    "    img_norm = img[:,:,0][:,:,None]\n",
    "    img_input=np.expand_dims(img_norm, 0)\n",
    "    prediction=(model.predict(img_input))\n",
    "    predicted_img=np.argmax(prediction, axis=3)[0,:,:]\n",
    "    \n",
    "    return predicted_img"
   ]
  },
  {
   "cell_type": "code",
   "execution_count": 5,
   "id": "073f8b3b",
   "metadata": {},
   "outputs": [],
   "source": [
    "def delete_artifacts(input_dir, output_dir, model):\n",
    "    if os.path.exists(input_dir) == False:\n",
    "        print('Input directory does not exist !')\n",
    "        return\n",
    "    if os.path.exists(output_dir) == False:\n",
    "        print('Creating output directory ...')\n",
    "        os.mkdir(output_dir)\n",
    "    \n",
    "    for directory_path in glob(input_dir):\n",
    "        for img_path in glob(os.path.join(directory_path, \"*.png\")):\n",
    "            img = cv2.imread(img_path, 0)\n",
    "            np_img = np.array(img)\n",
    "            np_img = np.expand_dims(np_img, axis=2)\n",
    "            np_img = normalize(np_img, axis=1)\n",
    "\n",
    "            img_norm = np_img[:,:,0][:,:,None]\n",
    "            img_input=np.expand_dims(img_norm, 0)\n",
    "            prediction = (model.predict(img_input))\n",
    "            predicted_img = np.argmax(prediction, axis=3)[0,:,:]\n",
    "            \n",
    "            mask = np.logical_and(predicted_img > 2, predicted_img < 4)\n",
    "            img[mask] = 0\n",
    "            cv2.imwrite(os.path.join(output_dir, img_path.replace(directory_path, '')), img)"
   ]
  },
  {
   "cell_type": "code",
   "execution_count": null,
   "id": "4d36de9d",
   "metadata": {},
   "outputs": [
    {
     "name": "stdout",
     "output_type": "stream",
     "text": [
      "Creating output directory ...\n"
     ]
    }
   ],
   "source": [
    "delete_artifacts(input_directory, output_directory, model_20221030)"
   ]
  },
  {
   "cell_type": "code",
   "execution_count": 10,
   "id": "320b734c",
   "metadata": {},
   "outputs": [
    {
     "data": {
      "text/plain": [
       "<matplotlib.image.AxesImage at 0x2946fd1c0>"
      ]
     },
     "execution_count": 10,
     "metadata": {},
     "output_type": "execute_result"
    },
    {
     "data": {
      "image/png": "[encoded data removed]",
      "text/plain": [
       "<Figure size 432x288 with 1 Axes>"
      ]
     },
     "metadata": {
      "needs_background": "light"
     },
     "output_type": "display_data"
    }
   ],
   "source": [
    "plt.imshow(segment_image(model_20230331, './Dataset/images/1497.png') ,cmap='gray')"
   ]
  },
  {
   "cell_type": "code",
   "execution_count": null,
   "id": "952a9cf0",
   "metadata": {},
   "outputs": [],
   "source": []
  }
 ],
 "metadata": {
  "kernelspec": {
   "display_name": "Python 3.9 (tensorflow)",
   "language": "python",
   "name": "tensorflow"
  },
  "language_info": {
   "codemirror_mode": {
    "name": "ipython",
    "version": 3
   },
   "file_extension": ".py",
   "mimetype": "text/x-python",
   "name": "python",
   "nbconvert_exporter": "python",
   "pygments_lexer": "ipython3",
   "version": "3.9.11"
  }
 },
 "nbformat": 4,
 "nbformat_minor": 5
}
