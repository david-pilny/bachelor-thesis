{
 "cells": [
  {
   "cell_type": "code",
   "execution_count": 7,
   "id": "ada97daa",
   "metadata": {},
   "outputs": [],
   "source": [
    "from tensorflow.keras.utils import normalize\n",
    "from tensorflow.keras.models import Model\n",
    "from tensorflow.keras.layers import Input, Conv2D, MaxPooling2D, UpSampling2D, concatenate, Conv2DTranspose, BatchNormalization, Dropout, Lambda\n",
    "from tensorflow.keras.utils import to_categorical\n",
    "from tensorflow.keras.metrics import MeanIoU\n",
    "import os\n",
    "from glob import glob\n",
    "import cv2\n",
    "from PIL import Image\n",
    "import numpy as np\n",
    "from matplotlib import pyplot as plt\n",
    "from sklearn.preprocessing import LabelEncoder\n",
    "from sklearn.model_selection import train_test_split\n",
    "from sklearn.utils import class_weight"
   ]
  },
  {
   "cell_type": "code",
   "execution_count": 8,
   "id": "800b5c74",
   "metadata": {},
   "outputs": [],
   "source": [
    "input_dir = \"../../../../Desktop/Ateroskleroza_Data_Original_26_9_19/images/\"\n",
    "mask_dir = \"../../../../Desktop/Ateroskleroza_Data_Original_26_9_19/labels/\"\n",
    "\n",
    "train_images = []\n",
    "for directory_path in glob(input_dir):\n",
    "    for img_path in glob(os.path.join(directory_path, \"*.png\")):\n",
    "        img = cv2.imread(img_path, 0)\n",
    "        train_images.append(img)\n",
    "        \n",
    "train_images = np.array(train_images)\n",
    "\n",
    "train_masks = []\n",
    "for directory_path in glob(mask_dir):\n",
    "    for mask_path in glob(os.path.join(directory_path, \"*.png\")):\n",
    "        mask = cv2.imread(mask_path, 0)\n",
    "        train_masks.append(mask)\n",
    "\n",
    "train_masks = np.array(train_masks)"
   ]
  },
  {
   "cell_type": "code",
   "execution_count": 9,
   "id": "d2d8da4d",
   "metadata": {},
   "outputs": [
    {
     "data": {
      "text/plain": [
       "(869, 544, 544)"
      ]
     },
     "execution_count": 9,
     "metadata": {},
     "output_type": "execute_result"
    }
   ],
   "source": [
    "train_images.shape"
   ]
  },
  {
   "cell_type": "code",
   "execution_count": 10,
   "id": "3fa544d6",
   "metadata": {},
   "outputs": [],
   "source": [
    "train_images = np.expand_dims(train_images, axis=3)"
   ]
  },
  {
   "cell_type": "code",
   "execution_count": 11,
   "id": "c6a3a110",
   "metadata": {},
   "outputs": [
    {
     "data": {
      "text/plain": [
       "(869, 544, 544, 1)"
      ]
     },
     "execution_count": 11,
     "metadata": {},
     "output_type": "execute_result"
    }
   ],
   "source": [
    "train_images.shape"
   ]
  },
  {
   "cell_type": "code",
   "execution_count": null,
   "id": "512d3525",
   "metadata": {},
   "outputs": [],
   "source": []
  }
 ],
 "metadata": {
  "kernelspec": {
   "display_name": "Python 3.9 (tensorflow)",
   "language": "python",
   "name": "tensorflow"
  },
  "language_info": {
   "codemirror_mode": {
    "name": "ipython",
    "version": 3
   },
   "file_extension": ".py",
   "mimetype": "text/x-python",
   "name": "python",
   "nbconvert_exporter": "python",
   "pygments_lexer": "ipython3",
   "version": "3.9.11"
  }
 },
 "nbformat": 4,
 "nbformat_minor": 5
}
